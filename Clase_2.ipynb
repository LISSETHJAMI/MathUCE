{
  "nbformat": 4,
  "nbformat_minor": 0,
  "metadata": {
    "colab": {
      "provenance": []
    },
    "kernelspec": {
      "name": "python3",
      "display_name": "Python 3"
    },
    "language_info": {
      "name": "python"
    }
  },
  "cells": [
    {
      "cell_type": "markdown",
      "source": [
        "**TEORIA DE CONJUNTOS Y LOGICA **\n",
        "\n",
        "\n",
        "\n",
        "1.   Interseccion de Conjuntos\n",
        "\n",
        "Si Ω es un conjunto y tenemos una familia de subconjuntos Ai para i variando de 1 hasta n1 la interseccion de esta familia es:\n",
        "\n",
        "$n\n",
        " ⋂\n",
        "i=1\n",
        "​\n",
        "  A\n",
        "i\n",
        "​\n",
        " ={x∈Ω∣x∈A\n",
        "i\n",
        "​\n",
        "  para todo i∈{1,2,…,n}}$\n",
        "\n",
        "\n"
      ],
      "metadata": {
        "id": "GkGZrKv619tY"
      }
    },
    {
      "cell_type": "markdown",
      "source": [
        "Negación de Proposiciones:\n",
        "\n",
        "Proposición:\n",
        "∀\n",
        "𝑥\n",
        "∈\n",
        "𝐴\n",
        ",\n",
        "𝑃\n",
        "(\n",
        "𝑥\n",
        ")\n",
        "∀x∈A,P(x)\n",
        "Negación:\n",
        "∃\n",
        "𝑥\n",
        "∈\n",
        "𝐴\n",
        " tal que\n",
        "¬\n",
        "𝑃\n",
        "(\n",
        "𝑥\n",
        ")\n",
        "∃x∈A tal que ¬P(x)"
      ],
      "metadata": {
        "id": "90Oz3Mst6mOH"
      }
    },
    {
      "cell_type": "markdown",
      "source": [
        "**Algoritmos y Sistemas Numericos**\n",
        "\n",
        "\n",
        "1.   Algoritmos de programacion\n",
        "    \n",
        "*   Un algoritmo es un conjunto finito de pasos ordenados para resolver un problema específico.\n",
        "*  Clasificación:\n",
        "No computacionales: Actividades diarias (ej. preparar una receta).\n",
        "Computacionales: Instrucciones precisas para que una computadora resuelva un problema.\n",
        "\n",
        "\n",
        "2.   Fases de un Algortimo\n",
        "\n",
        "\n",
        "*   Entrada: Recopilación de datos.\n",
        "*   Proceso: Realización de cálculos o transformaciones\n",
        "*  Salida: Presentación de resultados.\n",
        "\n",
        "\n",
        "3.  Ejemplo de Algoritmo: Calcular el promedio de dos notas\n",
        "\n",
        "\n",
        "* Entrada: Leer dos notas.  \n",
        "*   Proceso: Calcular la suma y el promedio.\n",
        "*  Salida: Mostrar el promedio\n",
        "\n",
        "\n",
        "\n",
        "\n",
        "\n",
        "\n",
        "\n",
        "\n",
        "\n",
        "\n",
        "\n"
      ],
      "metadata": {
        "id": "-X0BNys86yi2"
      }
    },
    {
      "cell_type": "markdown",
      "source": [
        "# Algoritmo en pseudocódigo:\n",
        "inicio\n",
        "    leer nota1\n",
        "    leer nota2\n",
        "    suma = nota1 + nota2\n",
        "    promedio = suma / 2\n",
        "    escribir \"El promedio es: \", promedio\n",
        "fin"
      ],
      "metadata": {
        "id": "e3V6FZF68bk2"
      }
    },
    {
      "cell_type": "code",
      "source": [
        "# prompt: Algoritmo en pseudocódigo:\n",
        "# inicio leer nota1 leer nota2 suma = nota1 + nota2 promedio = suma / 2 escribir \"El promedio es: \", promedio fin\n",
        "\n",
        "# Algoritmo en pseudocódigo:\n",
        "# inicio\n",
        "#     leer nota1\n",
        "#     leer nota2\n",
        "#     suma = nota1 + nota2\n",
        "#     promedio = suma / 2\n",
        "#     escribir \"El promedio es: \", promedio\n",
        "# fin\n"
      ],
      "metadata": {
        "id": "MHH27SQC8kOd"
      },
      "execution_count": null,
      "outputs": []
    },
    {
      "cell_type": "markdown",
      "source": [
        "4.Diagrama de Flujo:\n",
        "Inicio -> Leer Nota1 -> Leer Nota2 -> Sumar Notas -> Calcular Promedio -> Escribir Resultado -> Fin"
      ],
      "metadata": {
        "id": "C2eQ3euo8vbh"
      }
    },
    {
      "cell_type": "markdown",
      "source": [
        "**Cuantificadores y Negaciones**\n",
        "\n",
        "1.   Cuentificadores\n",
        "\n",
        "\n",
        "*   Universal: ∀\n",
        "\n",
        "*  Existencial: ∃\n",
        "\n",
        "2.  Negación de Cuantificadores:\n",
        "\n",
        "\n",
        "*   La negación de $\n",
        "∀\n",
        "𝑥\n",
        ",\n",
        "𝑃\n",
        "(\n",
        "𝑥\n",
        ")\n",
        "∀x,P(x) es\n",
        "∃\n",
        "𝑥\n",
        ",\n",
        "¬\n",
        "𝑃\n",
        "(\n",
        "𝑥\n",
        ")\n",
        "∃x,¬P(x)$\n",
        "*   La negacion de $\n",
        "∃\n",
        "𝑥\n",
        ",\n",
        "𝑃\n",
        "(\n",
        "𝑥\n",
        ")\n",
        "∃x,P(x) es\n",
        "∀\n",
        "𝑥\n",
        ",\n",
        "¬\n",
        "𝑃\n",
        "(\n",
        "𝑥\n",
        ")\n",
        "∀x,¬P(x)$\n",
        "\n",
        "3. Ejemplo Complejo:\n",
        "\n",
        "\n",
        "*   Proposicion: $∀n∈N,∃k∈Ntal quek>n$\n",
        "     Traducción: Para todo número natural\n",
        "𝑛\n",
        "n, existe un número natural\n",
        "𝑘\n",
        "k que es mayor que\n",
        "𝑛\n",
        "n.\n",
        "* Negacion: $∃n∈Ntal que∀k∈N,k≤n$\n",
        "Traducción: Existe un número natural\n",
        "𝑛\n",
        "n tal que para todo número natural\n",
        "𝑘\n",
        "k,\n",
        "𝑘\n",
        "k es menor o igual que\n",
        "𝑛\n",
        "n.\n",
        "         \n",
        "         \n",
        "     \n",
        "\n",
        "\n",
        "\n",
        "\n",
        "\n",
        "\n"
      ],
      "metadata": {
        "id": "_901RI6C8_qR"
      }
    }
  ]
}