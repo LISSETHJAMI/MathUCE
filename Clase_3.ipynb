{
  "nbformat": 4,
  "nbformat_minor": 0,
  "metadata": {
    "colab": {
      "provenance": []
    },
    "kernelspec": {
      "name": "python3",
      "display_name": "Python 3"
    },
    "language_info": {
      "name": "python"
    }
  },
  "cells": [
    {
      "cell_type": "markdown",
      "source": [
        "# Introduccion a Python\n",
        "Python es un lenguaje de programación ampliamente utilizado en inteligencia artificial, machine learning, ciencia de datos, y más. Es conocido por su sintaxis simple y su facilidad de aprendizaje.\n",
        "* Objetivos del curso de Python:\n",
        "1.Comprender la sintaxis y semántica básica de Python.\n",
        "\n",
        "2.Diseñar, escribir, ejecutar y depurar códigos básicos en Python.\n",
        "\n",
        "3.Utilizar elementos de las bibliotecas estándar y otras bibliotecas de Python."
      ],
      "metadata": {
        "id": "WbQzc15gHH5_"
      }
    },
    {
      "cell_type": "markdown",
      "source": [
        "**Estructura de un Programa en Python**\n",
        "\n",
        "\n",
        "* Variables:Espacios en memoria para almacenar datos\n",
        "\n",
        "x = 10\n",
        "y = 20\n",
        "suma = x + y\n",
        "print(suma)  # Output: 30\n",
        "\n"
      ],
      "metadata": {
        "id": "LgzjsX_HH3rq"
      }
    },
    {
      "cell_type": "code",
      "source": [
        "# prompt: x = 10\n",
        "# y = 20\n",
        "# suma = x + y\n",
        "# print(suma)  # Output: 30\n",
        "\n",
        "x = 10\n",
        "y = 20\n",
        "suma = x + y\n",
        "print(suma)  # Output: 30\n"
      ],
      "metadata": {
        "id": "8AzqQxaxIZPz"
      },
      "execution_count": null,
      "outputs": []
    },
    {
      "cell_type": "markdown",
      "source": [
        "* Condicionales:Permiten ejecutar codigo basado en condiciones.\n",
        "if x > y:\n",
        "    print(\"x es mayor que y\")\n",
        "else:\n",
        "    print(\"x no es mayor que y\")"
      ],
      "metadata": {
        "id": "_z-TnrswIfxs"
      }
    },
    {
      "cell_type": "code",
      "execution_count": null,
      "metadata": {
        "id": "GGS5ct_dHPwI"
      },
      "outputs": [],
      "source": [
        "# prompt: if x > y:\n",
        "#     print(\"x es mayor que y\")\n",
        "# else:\n",
        "#     print(\"x no es mayor que y\")\n",
        "\n",
        "if x > y:\n",
        "  print(\"x es mayor que y\")\n",
        "else:\n",
        "  print(\"x no es mayor que y\")\n"
      ]
    },
    {
      "cell_type": "markdown",
      "source": [
        "* Bucles: Permiten repetir un bloque de codigo.\n",
        "\n",
        "for i in range(5):\n",
        "    print(i)"
      ],
      "metadata": {
        "id": "7xqrmdXuI0QJ"
      }
    },
    {
      "cell_type": "code",
      "source": [
        "# prompt: for i in range(5):\n",
        "#     print(i)\n",
        "\n",
        "for i in range(5):\n",
        "  print(i)\n"
      ],
      "metadata": {
        "id": "MmliLDFtI9g6"
      },
      "execution_count": null,
      "outputs": []
    },
    {
      "cell_type": "markdown",
      "source": [
        "**Diferencias entre Lenguaje Natural y Lenguaje de Programación:**\n",
        "* El lenguaje natural es flexible y evoluciona con el tiempo\n",
        "* El lenguaje de programación es rígido y preciso, diseñado para dar instrucciones claras a la computadora.\n"
      ],
      "metadata": {
        "id": "FSLqKPlAJElH"
      }
    },
    {
      "cell_type": "markdown",
      "source": [
        "**Sistemas Numericos**\n",
        "\n",
        "Conversion entre sistemas numericos\n",
        " * Binario a Decimal:\n",
        "   *    Ejemplo: 1011_2 a decimal.\n",
        "   *    Fórmula: $1×2\n",
        "3\n",
        " +0×2\n",
        "2\n",
        " +1×2\n",
        "1\n",
        " +1×2\n",
        "0\n",
        " =8+0+2+1=11\n",
        "10\n",
        "​\n",
        "$\n",
        "\n",
        "\n",
        "* Decimal A Binario:\n",
        "    * Ejemplo: 11_{10} a binario.\n",
        "    *Dividir 11 por 2 repetidamente y anotar los restos.\n",
        "    *Proceso:\n",
        "      * $ 11 ÷ 2 = 5 resto 1\n",
        "      * 5 ÷ 2 = 2 resto 1\n",
        "      * 2 ÷ 2 = 1 resto 0\n",
        "      * 1 ÷ 2 = 0 resto 1$\n",
        " *Resultado: 1011_2\n",
        "\n"
      ],
      "metadata": {
        "id": "srAgzkqiJSqC"
      }
    },
    {
      "cell_type": "markdown",
      "source": [
        "**Cardinalidad**\n",
        "La cardinalidad se refiere al número de elementos en un conjunto. Se puede denotar como $\n",
        "∣\n",
        "𝐴\n",
        "∣\n",
        "∣A∣ para un conjunto\n",
        "𝐴\n",
        "A.$"
      ],
      "metadata": {
        "id": "tuz47578K5IM"
      }
    }
  ]
}