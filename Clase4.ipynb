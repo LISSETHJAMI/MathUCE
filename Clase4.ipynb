{
  "nbformat": 4,
  "nbformat_minor": 0,
  "metadata": {
    "colab": {
      "provenance": []
    },
    "kernelspec": {
      "name": "python3",
      "display_name": "Python 3"
    },
    "language_info": {
      "name": "python"
    }
  },
  "cells": [
    {
      "cell_type": "markdown",
      "source": [
        "# Funciones Matematicas:Imagen y Preimagen/Principios de Demostracion\n",
        "\n",
        "**Definicion de Funcion:**\n",
        " * Una función $f:A→B$ es una regla de asociacion que asigna a cada elecmento $X$ de un conjunto $A$ un unico elemento $y$ de un conjunto $B$,denotado como $f(x)=y$.\n",
        "\n",
        "**Notacion:$f:A->B$,donde:**\n",
        "  * A es el dominio (esapcio de partida).\n",
        "  * B es el codominio (espacio de llegada).\n",
        "  *$f(x)=y$ donde $y$ es la imagen de $x$ a traves de $f$.\n",
        "\n",
        "**Ejemplo Numerico**\n",
        "  * Si definimos una funcion $f(x)=3x^2$,necesitamos:\n",
        "    * Espacio de partida:numeros reales $R$.\n",
        "    *Espacio de llegada:numeros reales $R$.\n",
        "    *Regla de asociacion: $f(x)=3x^2$.\n",
        "\n",
        "**Ejemplo No numerico**\n",
        "  * Consideremos el conjunto $A$ como el conjunto de palabras en español y $B$ como el conjunto de letras del alfabeto.\n",
        "  1.Funcion $I$ :$A-->B$ que asocia a cada palabra su letra inicial.\n",
        "  2.Ejemplo:$I(marsupial)=m$.\n",
        "\n",
        "\n",
        "\n",
        "\n"
      ],
      "metadata": {
        "id": "zIU0hfcnLQsp"
      }
    },
    {
      "cell_type": "markdown",
      "source": [
        "**Ejemplos de Funciones en Matematicas**\n",
        "1. Suma:\n",
        "  * Funcion: $+ R*R-->R$.\n",
        "  * Regla de asociacion: $(x,y)--->x+y$.\n",
        "2.Multiplicacion:\n",
        "  * Funcion: $R*R-->R$.\n",
        "  * Reafla de asociacion;$(x,y)-->x.y$.\n",
        "3.Relacion de Orden:\n",
        "  * Funcion: $ <_$:$R*R-->${0,1}.\n",
        "  * Regla de asociación: $1\n",
        "0\n",
        "​\n",
        "  \n",
        "si x≤y\n",
        "si no\n",
        "​ $\n",
        "\n",
        "4.Secuencia de Números Pares:\n",
        "  * Función:\n",
        "$𝑝\n",
        ":\n",
        "𝑁\n",
        "→\n",
        "𝑁\n",
        "p:N→N$.\n",
        "  * Regla de asociación:\n",
        "$𝑛\n",
        "↦2n$.\n",
        "5.Secuencia General:\n",
        "\n",
        "  * Funcion $x:N->R$.\n",
        "  * Ejemplo:$x(n)=1/n^2+1$.\n",
        "  \n"
      ],
      "metadata": {
        "id": "WWauULO3PoQu"
      }
    },
    {
      "cell_type": "markdown",
      "source": [
        "**Representacion Matematica**\n",
        "  * La funcion $f:A->B$ se define formalmente como:\n",
        "    *  ∀x∈A,∃!y∈B  tal que\n",
        " $y=f(x)$\n",
        "    * Notacion: ∃¡ indica la unicidad de $y$.\n"
      ],
      "metadata": {
        "id": "Lu4Ok6UWSVIs"
      }
    },
    {
      "cell_type": "markdown",
      "source": [
        "**Terminos Importantes**\n",
        "* Dominio: El conjunto\n",
        "A del cual parten los elementos.\n",
        "* Codominio: El conjunto\n",
        "B al cual llegan los elementos.\n",
        "* Imagen: El elemento\n",
        "y en\n",
        "B asociado a\n",
        "x en\n",
        "A por\n",
        "f.\n",
        "*Preimagen: El elemento\n",
        "x en\n",
        "A que se asocia a\n",
        "y en\n",
        "B por\n",
        "f.\n",
        "* Antecedente: Similar a preimagen, pero se refiere específicamente a elementos individuales."
      ],
      "metadata": {
        "id": "N2OwqasOTmWZ"
      }
    }
  ]
}